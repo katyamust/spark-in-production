{
 "metadata": {
  "language_info": {
   "codemirror_mode": {
    "name": "ipython",
    "version": 3
   },
   "file_extension": ".py",
   "mimetype": "text/x-python",
   "name": "python",
   "nbconvert_exporter": "python",
   "pygments_lexer": "ipython3",
   "version": "3.8.6-final"
  },
  "orig_nbformat": 2,
  "kernelspec": {
   "name": "python3",
   "display_name": "Python 3",
   "language": "python"
  }
 },
 "nbformat": 4,
 "nbformat_minor": 2,
 "cells": [
  {
   "cell_type": "code",
   "execution_count": 1,
   "metadata": {},
   "outputs": [
    {
     "output_type": "stream",
     "name": "stdout",
     "text": [
      "Unknown args:\n--ip=127.0.0.1\n--stdin=9068\n--control=9066\n--hb=9065\n--Session.signature_scheme=\"hmac-sha256\"\n--Session.key=b\"f039a383-d7c3-49ca-9f77-0d829506d42d\"\n--shell=9067\n--transport=\"tcp\"\n--iopub=9069\n--f=/tmp/tmp-179C5G5YsfqXA7z.json\n"
     ]
    }
   ],
   "source": [
    "import configargparse\n",
    "from pathlib import Path\n",
    "from spark_utils.streaming_utils import EventHubStreamer\n",
    "\n",
    "p = configargparse.ArgParser(prog='streaming.py',\n",
    "                             description='Streaming Job Sample',\n",
    "                             default_config_files=[Path().joinpath('configuration/run_args_data_generator.conf').resolve().as_posix()],\n",
    "                             formatter_class=configargparse.ArgumentDefaultsHelpFormatter)\n",
    "p.add('--output-eh-connection-string', type=str, required=True,\n",
    "      help='Output Event Hub connection string', env_var='GENERATOR_OUTPUT_EH_CONNECTION_STRING')\n",
    "\n",
    "args, unknown_args = p.parse_known_args()\n",
    "\n",
    "if unknown_args:\n",
    "    print(\"Unknown args:\")\n",
    "    _ = [print(arg) for arg in unknown_args]\n"
   ]
  },
  {
   "cell_type": "code",
   "execution_count": 2,
   "metadata": {},
   "outputs": [
    {
     "output_type": "stream",
     "name": "stdout",
     "text": [
      "Spark Configuration:\nspark.app.id=local-1610737526762\nspark.submit.pyFiles=/home/jovyan/.ivy2/jars/com.microsoft.azure_azure-eventhubs-spark_2.12-2.3.17.jar,/home/jovyan/.ivy2/jars/org.apache.hadoop_hadoop-azure-3.3.0.jar,/home/jovyan/.ivy2/jars/io.delta_delta-core_2.12-0.7.0.jar,/home/jovyan/.ivy2/jars/com.microsoft.azure_azure-eventhubs-3.2.0.jar,/home/jovyan/.ivy2/jars/org.scala-lang.modules_scala-java8-compat_2.12-0.9.0.jar,/home/jovyan/.ivy2/jars/org.apache.qpid_proton-j-0.33.4.jar,/home/jovyan/.ivy2/jars/com.microsoft.azure_qpid-proton-j-extensions-1.2.3.jar,/home/jovyan/.ivy2/jars/org.slf4j_slf4j-api-1.7.28.jar,/home/jovyan/.ivy2/jars/com.microsoft.azure_azure-client-authentication-1.7.3.jar,/home/jovyan/.ivy2/jars/com.nimbusds_nimbus-jose-jwt-6.0.1.jar,/home/jovyan/.ivy2/jars/com.microsoft.azure_azure-client-runtime-1.7.3.jar,/home/jovyan/.ivy2/jars/commons-codec_commons-codec-1.11.jar,/home/jovyan/.ivy2/jars/com.microsoft.azure_adal4j-1.6.4.jar,/home/jovyan/.ivy2/jars/com.microsoft.azure_azure-annotations-1.10.0.jar,/home/jovyan/.ivy2/jars/com.microsoft.rest_client-runtime-1.7.3.jar,/home/jovyan/.ivy2/jars/com.squareup.retrofit2_retrofit-2.7.2.jar,/home/jovyan/.ivy2/jars/com.squareup.okhttp3_okhttp-3.12.6.jar,/home/jovyan/.ivy2/jars/com.squareup.okhttp3_logging-interceptor-3.12.2.jar,/home/jovyan/.ivy2/jars/com.squareup.okhttp3_okhttp-urlconnection-3.12.2.jar,/home/jovyan/.ivy2/jars/com.squareup.retrofit2_converter-jackson-2.7.2.jar,/home/jovyan/.ivy2/jars/com.fasterxml.jackson.datatype_jackson-datatype-joda-2.10.1.jar,/home/jovyan/.ivy2/jars/org.apache.commons_commons-lang3-3.4.jar,/home/jovyan/.ivy2/jars/io.reactivex_rxjava-1.3.8.jar,/home/jovyan/.ivy2/jars/com.squareup.retrofit2_adapter-rxjava-2.7.2.jar,/home/jovyan/.ivy2/jars/com.google.j2objc_j2objc-annotations-1.1.jar,/home/jovyan/.ivy2/jars/com.squareup.okio_okio-1.15.0.jar,/home/jovyan/.ivy2/jars/com.fasterxml.jackson.core_jackson-databind-2.10.1.jar,/home/jovyan/.ivy2/jars/com.fasterxml.jackson.core_jackson-annotations-2.10.1.jar,/home/jovyan/.ivy2/jars/joda-time_joda-time-2.9.9.jar,/home/jovyan/.ivy2/jars/com.nimbusds_oauth2-oidc-sdk-6.5.jar,/home/jovyan/.ivy2/jars/com.google.code.gson_gson-2.8.0.jar,/home/jovyan/.ivy2/jars/com.sun.mail_javax.mail-1.6.1.jar,/home/jovyan/.ivy2/jars/com.github.stephenc.jcip_jcip-annotations-1.0-1.jar,/home/jovyan/.ivy2/jars/net.minidev_json-smart-2.3.jar,/home/jovyan/.ivy2/jars/com.nimbusds_lang-tag-1.5.jar,/home/jovyan/.ivy2/jars/javax.activation_activation-1.1.jar,/home/jovyan/.ivy2/jars/net.minidev_accessors-smart-1.2.jar,/home/jovyan/.ivy2/jars/org.ow2.asm_asm-5.0.4.jar,/home/jovyan/.ivy2/jars/org.apache.httpcomponents_httpclient-4.5.6.jar,/home/jovyan/.ivy2/jars/com.microsoft.azure_azure-storage-7.0.0.jar,/home/jovyan/.ivy2/jars/com.google.guava_guava-27.0-jre.jar,/home/jovyan/.ivy2/jars/org.eclipse.jetty_jetty-util-ajax-9.4.20.v20190813.jar,/home/jovyan/.ivy2/jars/org.codehaus.jackson_jackson-mapper-asl-1.9.13.jar,/home/jovyan/.ivy2/jars/org.codehaus.jackson_jackson-core-asl-1.9.13.jar,/home/jovyan/.ivy2/jars/org.wildfly.openssl_wildfly-openssl-1.0.7.Final.jar,/home/jovyan/.ivy2/jars/org.apache.httpcomponents_httpcore-4.4.10.jar,/home/jovyan/.ivy2/jars/commons-logging_commons-logging-1.1.3.jar,/home/jovyan/.ivy2/jars/com.fasterxml.jackson.core_jackson-core-2.10.3.jar,/home/jovyan/.ivy2/jars/com.microsoft.azure_azure-keyvault-core-1.0.0.jar,/home/jovyan/.ivy2/jars/com.google.guava_failureaccess-1.0.jar,/home/jovyan/.ivy2/jars/com.google.guava_listenablefuture-9999.0-empty-to-avoid-conflict-with-guava.jar,/home/jovyan/.ivy2/jars/com.google.code.findbugs_jsr305-3.0.2.jar,/home/jovyan/.ivy2/jars/org.checkerframework_checker-qual-2.5.2.jar,/home/jovyan/.ivy2/jars/com.google.errorprone_error_prone_annotations-2.2.0.jar,/home/jovyan/.ivy2/jars/org.codehaus.mojo_animal-sniffer-annotations-1.17.jar,/home/jovyan/.ivy2/jars/org.eclipse.jetty_jetty-util-9.4.20.v20190813.jar,/home/jovyan/.ivy2/jars/org.antlr_antlr4-4.7.jar,/home/jovyan/.ivy2/jars/org.antlr_antlr4-runtime-4.7.jar,/home/jovyan/.ivy2/jars/org.antlr_antlr-runtime-3.5.2.jar,/home/jovyan/.ivy2/jars/org.antlr_ST4-4.0.8.jar,/home/jovyan/.ivy2/jars/org.abego.treelayout_org.abego.treelayout.core-1.0.3.jar,/home/jovyan/.ivy2/jars/org.glassfish_javax.json-1.0.4.jar,/home/jovyan/.ivy2/jars/com.ibm.icu_icu4j-58.2.jar\nspark.driver.port=41763\nspark.repl.local.jars=file:///home/jovyan/.ivy2/jars/com.microsoft.azure_azure-eventhubs-spark_2.12-2.3.17.jar,file:///home/jovyan/.ivy2/jars/org.apache.hadoop_hadoop-azure-3.3.0.jar,file:///home/jovyan/.ivy2/jars/io.delta_delta-core_2.12-0.7.0.jar,file:///home/jovyan/.ivy2/jars/com.microsoft.azure_azure-eventhubs-3.2.0.jar,file:///home/jovyan/.ivy2/jars/org.scala-lang.modules_scala-java8-compat_2.12-0.9.0.jar,file:///home/jovyan/.ivy2/jars/org.apache.qpid_proton-j-0.33.4.jar,file:///home/jovyan/.ivy2/jars/com.microsoft.azure_qpid-proton-j-extensions-1.2.3.jar,file:///home/jovyan/.ivy2/jars/org.slf4j_slf4j-api-1.7.28.jar,file:///home/jovyan/.ivy2/jars/com.microsoft.azure_azure-client-authentication-1.7.3.jar,file:///home/jovyan/.ivy2/jars/com.nimbusds_nimbus-jose-jwt-6.0.1.jar,file:///home/jovyan/.ivy2/jars/com.microsoft.azure_azure-client-runtime-1.7.3.jar,file:///home/jovyan/.ivy2/jars/commons-codec_commons-codec-1.11.jar,file:///home/jovyan/.ivy2/jars/com.microsoft.azure_adal4j-1.6.4.jar,file:///home/jovyan/.ivy2/jars/com.microsoft.azure_azure-annotations-1.10.0.jar,file:///home/jovyan/.ivy2/jars/com.microsoft.rest_client-runtime-1.7.3.jar,file:///home/jovyan/.ivy2/jars/com.squareup.retrofit2_retrofit-2.7.2.jar,file:///home/jovyan/.ivy2/jars/com.squareup.okhttp3_okhttp-3.12.6.jar,file:///home/jovyan/.ivy2/jars/com.squareup.okhttp3_logging-interceptor-3.12.2.jar,file:///home/jovyan/.ivy2/jars/com.squareup.okhttp3_okhttp-urlconnection-3.12.2.jar,file:///home/jovyan/.ivy2/jars/com.squareup.retrofit2_converter-jackson-2.7.2.jar,file:///home/jovyan/.ivy2/jars/com.fasterxml.jackson.datatype_jackson-datatype-joda-2.10.1.jar,file:///home/jovyan/.ivy2/jars/org.apache.commons_commons-lang3-3.4.jar,file:///home/jovyan/.ivy2/jars/io.reactivex_rxjava-1.3.8.jar,file:///home/jovyan/.ivy2/jars/com.squareup.retrofit2_adapter-rxjava-2.7.2.jar,file:///home/jovyan/.ivy2/jars/com.google.j2objc_j2objc-annotations-1.1.jar,file:///home/jovyan/.ivy2/jars/com.squareup.okio_okio-1.15.0.jar,file:///home/jovyan/.ivy2/jars/com.fasterxml.jackson.core_jackson-databind-2.10.1.jar,file:///home/jovyan/.ivy2/jars/com.fasterxml.jackson.core_jackson-annotations-2.10.1.jar,file:///home/jovyan/.ivy2/jars/joda-time_joda-time-2.9.9.jar,file:///home/jovyan/.ivy2/jars/com.nimbusds_oauth2-oidc-sdk-6.5.jar,file:///home/jovyan/.ivy2/jars/com.google.code.gson_gson-2.8.0.jar,file:///home/jovyan/.ivy2/jars/com.sun.mail_javax.mail-1.6.1.jar,file:///home/jovyan/.ivy2/jars/com.github.stephenc.jcip_jcip-annotations-1.0-1.jar,file:///home/jovyan/.ivy2/jars/net.minidev_json-smart-2.3.jar,file:///home/jovyan/.ivy2/jars/com.nimbusds_lang-tag-1.5.jar,file:///home/jovyan/.ivy2/jars/javax.activation_activation-1.1.jar,file:///home/jovyan/.ivy2/jars/net.minidev_accessors-smart-1.2.jar,file:///home/jovyan/.ivy2/jars/org.ow2.asm_asm-5.0.4.jar,file:///home/jovyan/.ivy2/jars/org.apache.httpcomponents_httpclient-4.5.6.jar,file:///home/jovyan/.ivy2/jars/com.microsoft.azure_azure-storage-7.0.0.jar,file:///home/jovyan/.ivy2/jars/com.google.guava_guava-27.0-jre.jar,file:///home/jovyan/.ivy2/jars/org.eclipse.jetty_jetty-util-ajax-9.4.20.v20190813.jar,file:///home/jovyan/.ivy2/jars/org.codehaus.jackson_jackson-mapper-asl-1.9.13.jar,file:///home/jovyan/.ivy2/jars/org.codehaus.jackson_jackson-core-asl-1.9.13.jar,file:///home/jovyan/.ivy2/jars/org.wildfly.openssl_wildfly-openssl-1.0.7.Final.jar,file:///home/jovyan/.ivy2/jars/org.apache.httpcomponents_httpcore-4.4.10.jar,file:///home/jovyan/.ivy2/jars/commons-logging_commons-logging-1.1.3.jar,file:///home/jovyan/.ivy2/jars/com.fasterxml.jackson.core_jackson-core-2.10.3.jar,file:///home/jovyan/.ivy2/jars/com.microsoft.azure_azure-keyvault-core-1.0.0.jar,file:///home/jovyan/.ivy2/jars/com.google.guava_failureaccess-1.0.jar,file:///home/jovyan/.ivy2/jars/com.google.guava_listenablefuture-9999.0-empty-to-avoid-conflict-with-guava.jar,file:///home/jovyan/.ivy2/jars/com.google.code.findbugs_jsr305-3.0.2.jar,file:///home/jovyan/.ivy2/jars/org.checkerframework_checker-qual-2.5.2.jar,file:///home/jovyan/.ivy2/jars/com.google.errorprone_error_prone_annotations-2.2.0.jar,file:///home/jovyan/.ivy2/jars/org.codehaus.mojo_animal-sniffer-annotations-1.17.jar,file:///home/jovyan/.ivy2/jars/org.eclipse.jetty_jetty-util-9.4.20.v20190813.jar,file:///home/jovyan/.ivy2/jars/org.antlr_antlr4-4.7.jar,file:///home/jovyan/.ivy2/jars/org.antlr_antlr4-runtime-4.7.jar,file:///home/jovyan/.ivy2/jars/org.antlr_antlr-runtime-3.5.2.jar,file:///home/jovyan/.ivy2/jars/org.antlr_ST4-4.0.8.jar,file:///home/jovyan/.ivy2/jars/org.abego.treelayout_org.abego.treelayout.core-1.0.3.jar,file:///home/jovyan/.ivy2/jars/org.glassfish_javax.json-1.0.4.jar,file:///home/jovyan/.ivy2/jars/com.ibm.icu_icu4j-58.2.jar\nspark.executor.id=driver\nspark.app.name=pyspark-shell\nspark.files=file:///home/jovyan/.ivy2/jars/com.microsoft.azure_azure-eventhubs-spark_2.12-2.3.17.jar,file:///home/jovyan/.ivy2/jars/org.apache.hadoop_hadoop-azure-3.3.0.jar,file:///home/jovyan/.ivy2/jars/io.delta_delta-core_2.12-0.7.0.jar,file:///home/jovyan/.ivy2/jars/com.microsoft.azure_azure-eventhubs-3.2.0.jar,file:///home/jovyan/.ivy2/jars/org.scala-lang.modules_scala-java8-compat_2.12-0.9.0.jar,file:///home/jovyan/.ivy2/jars/org.apache.qpid_proton-j-0.33.4.jar,file:///home/jovyan/.ivy2/jars/com.microsoft.azure_qpid-proton-j-extensions-1.2.3.jar,file:///home/jovyan/.ivy2/jars/org.slf4j_slf4j-api-1.7.28.jar,file:///home/jovyan/.ivy2/jars/com.microsoft.azure_azure-client-authentication-1.7.3.jar,file:///home/jovyan/.ivy2/jars/com.nimbusds_nimbus-jose-jwt-6.0.1.jar,file:///home/jovyan/.ivy2/jars/com.microsoft.azure_azure-client-runtime-1.7.3.jar,file:///home/jovyan/.ivy2/jars/commons-codec_commons-codec-1.11.jar,file:///home/jovyan/.ivy2/jars/com.microsoft.azure_adal4j-1.6.4.jar,file:///home/jovyan/.ivy2/jars/com.microsoft.azure_azure-annotations-1.10.0.jar,file:///home/jovyan/.ivy2/jars/com.microsoft.rest_client-runtime-1.7.3.jar,file:///home/jovyan/.ivy2/jars/com.squareup.retrofit2_retrofit-2.7.2.jar,file:///home/jovyan/.ivy2/jars/com.squareup.okhttp3_okhttp-3.12.6.jar,file:///home/jovyan/.ivy2/jars/com.squareup.okhttp3_logging-interceptor-3.12.2.jar,file:///home/jovyan/.ivy2/jars/com.squareup.okhttp3_okhttp-urlconnection-3.12.2.jar,file:///home/jovyan/.ivy2/jars/com.squareup.retrofit2_converter-jackson-2.7.2.jar,file:///home/jovyan/.ivy2/jars/com.fasterxml.jackson.datatype_jackson-datatype-joda-2.10.1.jar,file:///home/jovyan/.ivy2/jars/org.apache.commons_commons-lang3-3.4.jar,file:///home/jovyan/.ivy2/jars/io.reactivex_rxjava-1.3.8.jar,file:///home/jovyan/.ivy2/jars/com.squareup.retrofit2_adapter-rxjava-2.7.2.jar,file:///home/jovyan/.ivy2/jars/com.google.j2objc_j2objc-annotations-1.1.jar,file:///home/jovyan/.ivy2/jars/com.squareup.okio_okio-1.15.0.jar,file:///home/jovyan/.ivy2/jars/com.fasterxml.jackson.core_jackson-databind-2.10.1.jar,file:///home/jovyan/.ivy2/jars/com.fasterxml.jackson.core_jackson-annotations-2.10.1.jar,file:///home/jovyan/.ivy2/jars/joda-time_joda-time-2.9.9.jar,file:///home/jovyan/.ivy2/jars/com.nimbusds_oauth2-oidc-sdk-6.5.jar,file:///home/jovyan/.ivy2/jars/com.google.code.gson_gson-2.8.0.jar,file:///home/jovyan/.ivy2/jars/com.sun.mail_javax.mail-1.6.1.jar,file:///home/jovyan/.ivy2/jars/com.github.stephenc.jcip_jcip-annotations-1.0-1.jar,file:///home/jovyan/.ivy2/jars/net.minidev_json-smart-2.3.jar,file:///home/jovyan/.ivy2/jars/com.nimbusds_lang-tag-1.5.jar,file:///home/jovyan/.ivy2/jars/javax.activation_activation-1.1.jar,file:///home/jovyan/.ivy2/jars/net.minidev_accessors-smart-1.2.jar,file:///home/jovyan/.ivy2/jars/org.ow2.asm_asm-5.0.4.jar,file:///home/jovyan/.ivy2/jars/org.apache.httpcomponents_httpclient-4.5.6.jar,file:///home/jovyan/.ivy2/jars/com.microsoft.azure_azure-storage-7.0.0.jar,file:///home/jovyan/.ivy2/jars/com.google.guava_guava-27.0-jre.jar,file:///home/jovyan/.ivy2/jars/org.eclipse.jetty_jetty-util-ajax-9.4.20.v20190813.jar,file:///home/jovyan/.ivy2/jars/org.codehaus.jackson_jackson-mapper-asl-1.9.13.jar,file:///home/jovyan/.ivy2/jars/org.codehaus.jackson_jackson-core-asl-1.9.13.jar,file:///home/jovyan/.ivy2/jars/org.wildfly.openssl_wildfly-openssl-1.0.7.Final.jar,file:///home/jovyan/.ivy2/jars/org.apache.httpcomponents_httpcore-4.4.10.jar,file:///home/jovyan/.ivy2/jars/commons-logging_commons-logging-1.1.3.jar,file:///home/jovyan/.ivy2/jars/com.fasterxml.jackson.core_jackson-core-2.10.3.jar,file:///home/jovyan/.ivy2/jars/com.microsoft.azure_azure-keyvault-core-1.0.0.jar,file:///home/jovyan/.ivy2/jars/com.google.guava_failureaccess-1.0.jar,file:///home/jovyan/.ivy2/jars/com.google.guava_listenablefuture-9999.0-empty-to-avoid-conflict-with-guava.jar,file:///home/jovyan/.ivy2/jars/com.google.code.findbugs_jsr305-3.0.2.jar,file:///home/jovyan/.ivy2/jars/org.checkerframework_checker-qual-2.5.2.jar,file:///home/jovyan/.ivy2/jars/com.google.errorprone_error_prone_annotations-2.2.0.jar,file:///home/jovyan/.ivy2/jars/org.codehaus.mojo_animal-sniffer-annotations-1.17.jar,file:///home/jovyan/.ivy2/jars/org.eclipse.jetty_jetty-util-9.4.20.v20190813.jar,file:///home/jovyan/.ivy2/jars/org.antlr_antlr4-4.7.jar,file:///home/jovyan/.ivy2/jars/org.antlr_antlr4-runtime-4.7.jar,file:///home/jovyan/.ivy2/jars/org.antlr_antlr-runtime-3.5.2.jar,file:///home/jovyan/.ivy2/jars/org.antlr_ST4-4.0.8.jar,file:///home/jovyan/.ivy2/jars/org.abego.treelayout_org.abego.treelayout.core-1.0.3.jar,file:///home/jovyan/.ivy2/jars/org.glassfish_javax.json-1.0.4.jar,file:///home/jovyan/.ivy2/jars/com.ibm.icu_icu4j-58.2.jar\nspark.sql.extensions=io.delta.sql.DeltaSparkSessionExtension\nspark.rdd.compress=True\nspark.serializer.objectStreamReset=100\nspark.master=local[*]\nspark.submit.deployMode=client\nspark.jars=file:///home/jovyan/.ivy2/jars/com.microsoft.azure_azure-eventhubs-spark_2.12-2.3.17.jar,file:///home/jovyan/.ivy2/jars/org.apache.hadoop_hadoop-azure-3.3.0.jar,file:///home/jovyan/.ivy2/jars/io.delta_delta-core_2.12-0.7.0.jar,file:///home/jovyan/.ivy2/jars/com.microsoft.azure_azure-eventhubs-3.2.0.jar,file:///home/jovyan/.ivy2/jars/org.scala-lang.modules_scala-java8-compat_2.12-0.9.0.jar,file:///home/jovyan/.ivy2/jars/org.apache.qpid_proton-j-0.33.4.jar,file:///home/jovyan/.ivy2/jars/com.microsoft.azure_qpid-proton-j-extensions-1.2.3.jar,file:///home/jovyan/.ivy2/jars/org.slf4j_slf4j-api-1.7.28.jar,file:///home/jovyan/.ivy2/jars/com.microsoft.azure_azure-client-authentication-1.7.3.jar,file:///home/jovyan/.ivy2/jars/com.nimbusds_nimbus-jose-jwt-6.0.1.jar,file:///home/jovyan/.ivy2/jars/com.microsoft.azure_azure-client-runtime-1.7.3.jar,file:///home/jovyan/.ivy2/jars/commons-codec_commons-codec-1.11.jar,file:///home/jovyan/.ivy2/jars/com.microsoft.azure_adal4j-1.6.4.jar,file:///home/jovyan/.ivy2/jars/com.microsoft.azure_azure-annotations-1.10.0.jar,file:///home/jovyan/.ivy2/jars/com.microsoft.rest_client-runtime-1.7.3.jar,file:///home/jovyan/.ivy2/jars/com.squareup.retrofit2_retrofit-2.7.2.jar,file:///home/jovyan/.ivy2/jars/com.squareup.okhttp3_okhttp-3.12.6.jar,file:///home/jovyan/.ivy2/jars/com.squareup.okhttp3_logging-interceptor-3.12.2.jar,file:///home/jovyan/.ivy2/jars/com.squareup.okhttp3_okhttp-urlconnection-3.12.2.jar,file:///home/jovyan/.ivy2/jars/com.squareup.retrofit2_converter-jackson-2.7.2.jar,file:///home/jovyan/.ivy2/jars/com.fasterxml.jackson.datatype_jackson-datatype-joda-2.10.1.jar,file:///home/jovyan/.ivy2/jars/org.apache.commons_commons-lang3-3.4.jar,file:///home/jovyan/.ivy2/jars/io.reactivex_rxjava-1.3.8.jar,file:///home/jovyan/.ivy2/jars/com.squareup.retrofit2_adapter-rxjava-2.7.2.jar,file:///home/jovyan/.ivy2/jars/com.google.j2objc_j2objc-annotations-1.1.jar,file:///home/jovyan/.ivy2/jars/com.squareup.okio_okio-1.15.0.jar,file:///home/jovyan/.ivy2/jars/com.fasterxml.jackson.core_jackson-databind-2.10.1.jar,file:///home/jovyan/.ivy2/jars/com.fasterxml.jackson.core_jackson-annotations-2.10.1.jar,file:///home/jovyan/.ivy2/jars/joda-time_joda-time-2.9.9.jar,file:///home/jovyan/.ivy2/jars/com.nimbusds_oauth2-oidc-sdk-6.5.jar,file:///home/jovyan/.ivy2/jars/com.google.code.gson_gson-2.8.0.jar,file:///home/jovyan/.ivy2/jars/com.sun.mail_javax.mail-1.6.1.jar,file:///home/jovyan/.ivy2/jars/com.github.stephenc.jcip_jcip-annotations-1.0-1.jar,file:///home/jovyan/.ivy2/jars/net.minidev_json-smart-2.3.jar,file:///home/jovyan/.ivy2/jars/com.nimbusds_lang-tag-1.5.jar,file:///home/jovyan/.ivy2/jars/javax.activation_activation-1.1.jar,file:///home/jovyan/.ivy2/jars/net.minidev_accessors-smart-1.2.jar,file:///home/jovyan/.ivy2/jars/org.ow2.asm_asm-5.0.4.jar,file:///home/jovyan/.ivy2/jars/org.apache.httpcomponents_httpclient-4.5.6.jar,file:///home/jovyan/.ivy2/jars/com.microsoft.azure_azure-storage-7.0.0.jar,file:///home/jovyan/.ivy2/jars/com.google.guava_guava-27.0-jre.jar,file:///home/jovyan/.ivy2/jars/org.eclipse.jetty_jetty-util-ajax-9.4.20.v20190813.jar,file:///home/jovyan/.ivy2/jars/org.codehaus.jackson_jackson-mapper-asl-1.9.13.jar,file:///home/jovyan/.ivy2/jars/org.codehaus.jackson_jackson-core-asl-1.9.13.jar,file:///home/jovyan/.ivy2/jars/org.wildfly.openssl_wildfly-openssl-1.0.7.Final.jar,file:///home/jovyan/.ivy2/jars/org.apache.httpcomponents_httpcore-4.4.10.jar,file:///home/jovyan/.ivy2/jars/commons-logging_commons-logging-1.1.3.jar,file:///home/jovyan/.ivy2/jars/com.fasterxml.jackson.core_jackson-core-2.10.3.jar,file:///home/jovyan/.ivy2/jars/com.microsoft.azure_azure-keyvault-core-1.0.0.jar,file:///home/jovyan/.ivy2/jars/com.google.guava_failureaccess-1.0.jar,file:///home/jovyan/.ivy2/jars/com.google.guava_listenablefuture-9999.0-empty-to-avoid-conflict-with-guava.jar,file:///home/jovyan/.ivy2/jars/com.google.code.findbugs_jsr305-3.0.2.jar,file:///home/jovyan/.ivy2/jars/org.checkerframework_checker-qual-2.5.2.jar,file:///home/jovyan/.ivy2/jars/com.google.errorprone_error_prone_annotations-2.2.0.jar,file:///home/jovyan/.ivy2/jars/org.codehaus.mojo_animal-sniffer-annotations-1.17.jar,file:///home/jovyan/.ivy2/jars/org.eclipse.jetty_jetty-util-9.4.20.v20190813.jar,file:///home/jovyan/.ivy2/jars/org.antlr_antlr4-4.7.jar,file:///home/jovyan/.ivy2/jars/org.antlr_antlr4-runtime-4.7.jar,file:///home/jovyan/.ivy2/jars/org.antlr_antlr-runtime-3.5.2.jar,file:///home/jovyan/.ivy2/jars/org.antlr_ST4-4.0.8.jar,file:///home/jovyan/.ivy2/jars/org.abego.treelayout_org.abego.treelayout.core-1.0.3.jar,file:///home/jovyan/.ivy2/jars/org.glassfish_javax.json-1.0.4.jar,file:///home/jovyan/.ivy2/jars/com.ibm.icu_icu4j-58.2.jar\nspark.driver.host=9324fadac518\nspark.ui.showConsoleProgress=true\nspark.jars.packages=com.microsoft.azure:azure-eventhubs-spark_2.12:2.3.17,org.apache.hadoop:hadoop-azure:3.3.0,io.delta:delta-core_2.12:0.7.0\nspark.sql.catalog.spark_catalog=org.apache.spark.sql.delta.catalog.DeltaCatalog\n"
     ]
    }
   ],
   "source": [
    "from pyspark import SparkConf\n",
    "from pyspark.sql import SparkSession\n",
    "\n",
    "spark_conf = SparkConf(loadDefaults=True)\n",
    "\n",
    "spark = SparkSession\\\n",
    "    .builder\\\n",
    "    .config(conf=spark_conf)\\\n",
    "    .getOrCreate()\n",
    "\n",
    "sc = spark.sparkContext\n",
    "print(\"Spark Configuration:\")\n",
    "_ = [print(k + '=' + v) for k, v in sc.getConf().getAll()]\n"
   ]
  },
  {
   "cell_type": "code",
   "execution_count": 4,
   "metadata": {},
   "outputs": [
    {
     "output_type": "stream",
     "name": "stdout",
     "text": [
      "root\n",
      " |-- timestamp: timestamp (nullable = true)\n",
      " |-- value: long (nullable = true)\n",
      "\n",
      "+---------+-----+\n",
      "|timestamp|value|\n",
      "+---------+-----+\n",
      "+---------+-----+\n",
      "\n",
      "+--------------------+-----+\n",
      "|           timestamp|value|\n",
      "+--------------------+-----+\n",
      "|2021-01-15 19:06:...|    0|\n",
      "|2021-01-15 19:06:...|    4|\n",
      "|2021-01-15 19:06:...|    8|\n",
      "|2021-01-15 19:06:...|   12|\n",
      "|2021-01-15 19:06:...|   16|\n",
      "|2021-01-15 19:06:...|    1|\n",
      "|2021-01-15 19:06:...|    5|\n",
      "|2021-01-15 19:06:...|    9|\n",
      "|2021-01-15 19:06:...|   13|\n",
      "|2021-01-15 19:06:...|   17|\n",
      "|2021-01-15 19:06:...|    2|\n",
      "|2021-01-15 19:06:...|    6|\n",
      "|2021-01-15 19:06:...|   10|\n",
      "|2021-01-15 19:06:...|   14|\n",
      "|2021-01-15 19:06:...|   18|\n",
      "|2021-01-15 19:06:...|    3|\n",
      "|2021-01-15 19:06:...|    7|\n",
      "|2021-01-15 19:06:...|   11|\n",
      "|2021-01-15 19:06:...|   15|\n",
      "|2021-01-15 19:06:...|   19|\n",
      "+--------------------+-----+\n",
      "\n"
     ]
    }
   ],
   "source": [
    "\n",
    "rateStream = spark \\\n",
    "  .readStream \\\n",
    "  .format(\"rate\") \\\n",
    "  .option(\"rowsPerSecond\", 10) \\\n",
    "  .load()\n",
    "\n",
    "EventHubStreamer.preview_stream(rateStream, await_seconds=3)"
   ]
  },
  {
   "cell_type": "code",
   "execution_count": 5,
   "metadata": {},
   "outputs": [
    {
     "output_type": "stream",
     "name": "stdout",
     "text": [
      "root\n",
      " |-- timestamp: timestamp (nullable = true)\n",
      " |-- value: long (nullable = true)\n",
      "\n",
      "+---------+-----+\n",
      "|timestamp|value|\n",
      "+---------+-----+\n",
      "+---------+-----+\n",
      "\n",
      "+--------------------+-----+\n",
      "|           timestamp|value|\n",
      "+--------------------+-----+\n",
      "|2021-01-15 19:06:...|    0|\n",
      "|2021-01-15 19:06:...|    4|\n",
      "|2021-01-15 19:06:...|    8|\n",
      "|2021-01-15 19:06:...|    1|\n",
      "|2021-01-15 19:06:...|    5|\n",
      "|2021-01-15 19:06:...|    9|\n",
      "|2021-01-15 19:06:...|    2|\n",
      "|2021-01-15 19:06:...|    6|\n",
      "|2021-01-15 19:06:...|    3|\n",
      "|2021-01-15 19:06:...|    7|\n",
      "+--------------------+-----+\n",
      "\n",
      "+--------------------+-----+\n",
      "|           timestamp|value|\n",
      "+--------------------+-----+\n",
      "|2021-01-15 19:06:...|   10|\n",
      "|2021-01-15 19:06:...|   14|\n",
      "|2021-01-15 19:06:...|   18|\n",
      "|2021-01-15 19:06:...|   11|\n",
      "|2021-01-15 19:06:...|   15|\n",
      "|2021-01-15 19:06:...|   19|\n",
      "|2021-01-15 19:06:...|   12|\n",
      "|2021-01-15 19:06:...|   16|\n",
      "|2021-01-15 19:06:...|   13|\n",
      "|2021-01-15 19:06:...|   17|\n",
      "+--------------------+-----+\n",
      "\n"
     ]
    }
   ],
   "source": [
    "from pyspark.sql.functions import col, lit, struct\n",
    "\n",
    "generatedData = rateStream \\\n",
    "    .withColumn(\"value\", col(\"value\") * 3019) \\\n",
    "    .withColumnRenamed(\"timestamp\", \"ObservationTime\") \\\n",
    "    .withColumn(\"MeterId\", col(\"value\") % lit(127)) \\\n",
    "    .withColumn(\"SupplierId\", col(\"value\") % lit(733)) \\\n",
    "    .withColumn(\"Measurement\", struct(\n",
    "        (col(\"value\") % lit(59)).alias(\"Value\"),\n",
    "        lit(\"kWH\").alias(\"Unit\")\n",
    "    )) \\\n",
    "    .drop(\"value\")\n",
    "\n",
    "\n",
    "EventHubStreamer.preview_stream(rateStream, await_seconds=3)"
   ]
  },
  {
   "cell_type": "code",
   "execution_count": 6,
   "metadata": {},
   "outputs": [
    {
     "output_type": "stream",
     "name": "stdout",
     "text": [
      "root\n",
      " |-- body: string (nullable = true)\n",
      "\n",
      "+----+\n",
      "|body|\n",
      "+----+\n",
      "+----+\n",
      "\n",
      "+--------------------+\n",
      "|                body|\n",
      "+--------------------+\n",
      "|{\"ObservationTime...|\n",
      "|{\"ObservationTime...|\n",
      "|{\"ObservationTime...|\n",
      "|{\"ObservationTime...|\n",
      "|{\"ObservationTime...|\n",
      "|{\"ObservationTime...|\n",
      "|{\"ObservationTime...|\n",
      "|{\"ObservationTime...|\n",
      "|{\"ObservationTime...|\n",
      "|{\"ObservationTime...|\n",
      "+--------------------+\n",
      "\n",
      "+--------------------+\n",
      "|                body|\n",
      "+--------------------+\n",
      "|{\"ObservationTime...|\n",
      "|{\"ObservationTime...|\n",
      "|{\"ObservationTime...|\n",
      "|{\"ObservationTime...|\n",
      "|{\"ObservationTime...|\n",
      "|{\"ObservationTime...|\n",
      "|{\"ObservationTime...|\n",
      "|{\"ObservationTime...|\n",
      "|{\"ObservationTime...|\n",
      "|{\"ObservationTime...|\n",
      "+--------------------+\n",
      "\n"
     ]
    }
   ],
   "source": [
    "from pyspark.sql.functions import to_json\n",
    "\n",
    "jsonData = generatedData \\\n",
    "    .select(to_json(struct(col(\"*\"))).cast(\"string\").alias(\"body\"))\n",
    "\n",
    "EventHubStreamer.preview_stream(jsonData, await_seconds=3)"
   ]
  },
  {
   "cell_type": "code",
   "execution_count": 1,
   "metadata": {},
   "outputs": [],
   "source": [
    "from pyspark.sql.functions import to_json\n",
    "\n",
    "eh_conf = {\n",
    "    'eventhubs.connectionString':\n",
    "    sc._jvm.org.apache.spark.eventhubs.EventHubsUtils.encrypt(args.output_eh_connection_string)\n",
    "}\n",
    "\n",
    "exec = jsonData \\\n",
    "    .writeStream \\\n",
    "    .format(\"eventhubs\") \\\n",
    "    .options(**eh_conf) \\\n",
    "    .option(\"checkpointLocation\", '.checkpoint/data-generator') \\\n",
    "    .start()\n",
    "\n",
    "exec.awaitTermination(600)\n",
    "exec.stop()"
   ]
  },
  {
   "cell_type": "code",
   "execution_count": null,
   "metadata": {},
   "outputs": [],
   "source": []
  }
 ]
}